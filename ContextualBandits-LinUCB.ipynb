{
 "cells": [
  {
   "cell_type": "markdown",
   "metadata": {},
   "source": [
    "## Contextual Bandits\n",
    "\n",
    "Setting up the problem:\n",
    "\n",
    "Now, the reward of pulling an arm $a$ is no longer simply pulled from an appropriate distribution. Instead, we have a bandit where the reward is dependent on both the arm and the context, $x$. In effect, the context changes the set of probability distributions for the bandit each time. \n",
    "\n",
    "The simplest possible solution to this problem is run a different bandit for each context. This is obviously a little unhelpful when there are a large number of arms. \n",
    "\n",
    "An alternative is to use information shared between arms and then run different bandits, as with Lipschitz bandits, which will be explored later. \n",
    "\n",
    "### LinUCB for linear context bandits\n",
    "\n",
    "A very simple case is that the reward is a linear function of the context, with some parameter vector that changes by arm, and we assume that these parameters are independent. \n",
    "\n",
    "The problem then amounts to fitting a model with the context vector and design matrix, and using this to predict reward. In fact, it is better stated as a UCB problem: the reward is not predicted, but an upper confidence bound is. \n",
    "\n",
    "The UCB in this case can be calculated and cached, and periodically updated as more contextual information is added. \n",
    "\n",
    "In order to have an agent work in this problem, we will have a context data class that holds the information we have about context and returns the quantities to calculate UCB when called by the agent. "
   ]
  },
  {
   "cell_type": "code",
   "execution_count": null,
   "metadata": {},
   "outputs": [],
   "source": []
  }
 ],
 "metadata": {
  "kernelspec": {
   "display_name": "Python 3",
   "language": "python",
   "name": "python3"
  },
  "language_info": {
   "codemirror_mode": {
    "name": "ipython",
    "version": 3
   },
   "file_extension": ".py",
   "mimetype": "text/x-python",
   "name": "python",
   "nbconvert_exporter": "python",
   "pygments_lexer": "ipython3",
   "version": "3.7.3"
  }
 },
 "nbformat": 4,
 "nbformat_minor": 2
}
