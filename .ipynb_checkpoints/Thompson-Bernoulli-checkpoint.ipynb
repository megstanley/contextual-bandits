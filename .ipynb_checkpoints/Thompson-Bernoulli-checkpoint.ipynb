{
 "cells": [
  {
   "cell_type": "markdown",
   "metadata": {},
   "source": [
    "## Bernoulli Bandits and Thompson Sampling\n",
    "\n",
    "A very simple case that is useful to look at in order to gain intuition is that of the Beta-Bernoulli Bandit. The Bandit has some number of arms, K, where the underlying probability distributions are Bernoulli. In other words, the agent receives a reward of '1' with probability $\\theta_{k}$ and otherwise receives no reward. \n",
    "\n",
    "This kind of Bandit is extremely useful to build up an intuition of the Bayesian approach to a Bandit problem: Thompson sampling. Here, the idea is that the agent has a prior belief about the value of $\\theta$.\n",
    "\n",
    "The process of explore-exploit is not $\\epsilon$-greedy; now we focus on sampling in such a way as to update the posterior beliefs of $\\theta_{k}$ in the most efficient way. Let's dig in to what that means, by first creating a bandit. "
   ]
  },
  {
   "cell_type": "code",
   "execution_count": 30,
   "metadata": {},
   "outputs": [],
   "source": [
    "import numpy as np\n",
    "import matplotlib.pyplot as plt"
   ]
  },
  {
   "cell_type": "code",
   "execution_count": 14,
   "metadata": {},
   "outputs": [],
   "source": [
    "class BernoulliBandit:\n",
    "    \"\"\"Class for a simple k-armed bandit without context dependence, using Bernoulli distributions.\n",
    "    It includes variable number of arms, initialization reward distribution for\n",
    "    each arm (hidden from agent) and method to have arm pulled and return reward. \"\"\"\n",
    "\n",
    "    def __init__(self, k):\n",
    "        self.k = k\n",
    "        self.theta = np.random.uniform(low=0, high = 1, size=k) #this is theta for each arm -- prob of pulling a '1'\n",
    "\n",
    "        self.best_arm = np.argmax(self.theta)\n",
    "        \n",
    "        self.best_reward = 1\n",
    "        self.expected_reward = self.theta\n",
    "\n",
    "    def pull_lever(self, lever):\n",
    "        test_rand = np.random.uniform(low = 0, high = 1)\n",
    "        if self.theta[lever] > test_rand:\n",
    "            return 1\n",
    "        else:\n",
    "            return 0\n",
    "        "
   ]
  },
  {
   "cell_type": "markdown",
   "metadata": {},
   "source": [
    "Let's get a standard agent parent class that we can build on for Thompson sampling, and build a Thompson sampler on top of that. This is just for the case of Bernoulli bandits at the moment"
   ]
  },
  {
   "cell_type": "code",
   "execution_count": 84,
   "metadata": {},
   "outputs": [],
   "source": [
    "class StandardAgent:\n",
    "    \n",
    "    def __init__(self, bandit):\n",
    "        #only require the bandit to initialise\n",
    "        \n",
    "        #general attributes of all agents\n",
    "        self.bandit = bandit\n",
    "        self.pull_record = [0] * self.bandit.k\n",
    "        self.action_sequence = []\n",
    "        \n",
    "        #for keeping track of how the agent learns\n",
    "        self.num_optimal_pulls = 0\n",
    "        self.optimal_trajectory = []\n",
    "        \n",
    "        #estimated Q is the value of each action, or the expected reward of each action\n",
    "        self.estimatedQ = [0] * self.bandit.k\n",
    "        \n",
    "        #keep track of the agent's knowledge of the probability distributions\n",
    "        #cumulative regret\n",
    "        self.total_regret = 0\n",
    "        #keeping an eye on how regret changes\n",
    "        self.regrets_trajectory = []\n",
    "        \n",
    "    def update_R(self, lever):\n",
    "        \n",
    "        self.total_regret += (self.bandit.best_reward - self.bandit.expected_reward[lever])\n",
    "        self.regrets_trajectory.append(self.total_regret)\n",
    "        \n",
    "    def choose_lever(self):\n",
    "        #in child classes this involves getting back the lever and returning the reward\n",
    "        raise NotImplementedError('Not a method in this parent class.')\n",
    "        \n",
    "    @property\n",
    "    def Q_values(self):\n",
    "        raise NotImplementedError('Not a method in this parent class.')\n",
    "        \n",
    "    def run_trial(self, n_steps):\n",
    "        for step in range(n_steps):\n",
    "            \n",
    "            lever = self.choose_lever()\n",
    "            \n",
    "            # Update the array keeping track of how many times each lever has been pulled\n",
    "            self.pull_record[lever] += 1\n",
    "            \n",
    "            # update whether lever was best\n",
    "            if lever == self.bandit.best_arm:\n",
    "                self.num_optimal_pulls += 1\n",
    "            self.optimal_trajectory.append(self.num_optimal_pulls / np.sum(self.pull_record))\n",
    "            \n",
    "            self.action_sequence.append(lever)\n",
    "            # update the regret \n",
    "            self.update_R(lever)\n",
    "    "
   ]
  },
  {
   "cell_type": "code",
   "execution_count": 223,
   "metadata": {},
   "outputs": [],
   "source": [
    "class BernoulliThompsonAgent(StandardAgent):\n",
    "    def __init__(self, bandit, a_start=1, b_start=1):\n",
    "        super(BernoulliThompsonAgent, self).__init__(bandit)\n",
    "        \n",
    "        self.a = [a_start] * self.bandit.k\n",
    "        self.b = [b_start] * self.bandit.k\n",
    "        \n",
    "        self.theta_estimate = [0]*self.bandit.k\n",
    "        self.Q_trajectory = [[] for i in range(self.bandit.k)]\n",
    "        \n",
    "        print(self.Q_trajectory)\n",
    "        \n",
    "    def choose_lever(self):\n",
    "        \n",
    "        #using beta prior with initial uniform distribution in first pass\n",
    "        for i in range(0, self.bandit.k):\n",
    "            self.theta_estimate[i] = np.random.beta(self.a[i], self.b[i])\n",
    "        \n",
    "        #choose the largest resulting theta estimate\n",
    "        lever = np.argmax(self.theta_estimate)\n",
    "        reward = self.bandit.pull_lever(lever)\n",
    "        \n",
    "        #update the posterior distribution over theta (update parameters of that dist)\n",
    "        self.a[lever] += reward\n",
    "        self.b[lever] += 1-reward\n",
    "        \n",
    "        self.update_Q()\n",
    "        \n",
    "        return lever\n",
    "    \n",
    "    def update_Q(self):\n",
    "        #update the Q values\n",
    "        for k in range(0, self.bandit.k):\n",
    "            self.estimatedQ[k] = self.a[k]/(self.a[k] + self.b[k]) #estimate of the Q values for each lever, here they are expectation values\n",
    "            #print(self.Q_trajectory[k])\n",
    "            self.Q_trajectory[k].append(self.estimatedQ[k])\n",
    "    \n",
    "        \n",
    "    #record the reward as an update to the 'Q value' for this action:\n",
    "    @property\n",
    "    def Q_values(self):\n",
    "        return self.estimatedQ\n",
    "        "
   ]
  },
  {
   "cell_type": "code",
   "execution_count": 224,
   "metadata": {},
   "outputs": [
    {
     "name": "stdout",
     "output_type": "stream",
     "text": [
      "[[], [], [], [], [], [], [], [], [], []]\n"
     ]
    }
   ],
   "source": [
    "bandit = BernoulliBandit(10)\n",
    "t = BernoulliThompsonAgent(bandit)"
   ]
  },
  {
   "cell_type": "code",
   "execution_count": 225,
   "metadata": {},
   "outputs": [],
   "source": [
    "t.run_trial(100000)"
   ]
  },
  {
   "cell_type": "code",
   "execution_count": 226,
   "metadata": {},
   "outputs": [
    {
     "data": {
      "text/plain": [
       "7"
      ]
     },
     "execution_count": 226,
     "metadata": {},
     "output_type": "execute_result"
    }
   ],
   "source": [
    "t.bandit.best_arm"
   ]
  },
  {
   "cell_type": "code",
   "execution_count": 227,
   "metadata": {},
   "outputs": [
    {
     "data": {
      "text/plain": [
       "[2, 12, 1, 2, 7, 2, 67, 99866, 9, 32]"
      ]
     },
     "execution_count": 227,
     "metadata": {},
     "output_type": "execute_result"
    }
   ],
   "source": [
    "t.pull_record"
   ]
  },
  {
   "cell_type": "code",
   "execution_count": 228,
   "metadata": {},
   "outputs": [
    {
     "data": {
      "text/plain": [
       "[0.25,\n",
       " 0.7857142857142857,\n",
       " 0.3333333333333333,\n",
       " 0.25,\n",
       " 0.6666666666666666,\n",
       " 0.25,\n",
       " 0.9420289855072463,\n",
       " 0.9982076340769817,\n",
       " 0.7272727272727273,\n",
       " 0.9117647058823529]"
      ]
     },
     "execution_count": 228,
     "metadata": {},
     "output_type": "execute_result"
    }
   ],
   "source": [
    "t.Q_values"
   ]
  },
  {
   "cell_type": "code",
   "execution_count": 229,
   "metadata": {},
   "outputs": [
    {
     "data": {
      "image/png": "[encoded data removed]",
      "text/plain": [
       "<Figure size 432x288 with 1 Axes>"
      ]
     },
     "metadata": {
      "needs_background": "light"
     },
     "output_type": "display_data"
    }
   ],
   "source": [
    "fig, ax = plt.subplots(figsize=(6,4))\n",
    "ax.plot(t.regrets_trajectory)\n",
    "ax.tick_params(labelsize=16)\n",
    "ax.set_xlabel('Steps', fontsize=16)\n",
    "ax.set_ylabel('Cumumlative Regret (1000 trials eps = 0.1)', fontsize=16)\n",
    "plt.show()"
   ]
  },
  {
   "cell_type": "code",
   "execution_count": 230,
   "metadata": {},
   "outputs": [
    {
     "data": {
      "text/plain": [
       "array([0.20075883, 0.9056029 , 0.35306611, 0.1242545 , 0.18934654,\n",
       "       0.09237537, 0.94308772, 0.99837154, 0.60339621, 0.90186004])"
      ]
     },
     "execution_count": 230,
     "metadata": {},
     "output_type": "execute_result"
    }
   ],
   "source": [
    "t.bandit.expected_reward"
   ]
  },
  {
   "cell_type": "code",
   "execution_count": 231,
   "metadata": {},
   "outputs": [
    {
     "data": {
      "image/png": "[encoded data removed]",
      "text/plain": [
       "<Figure size 432x288 with 1 Axes>"
      ]
     },
     "metadata": {
      "needs_background": "light"
     },
     "output_type": "display_data"
    }
   ],
   "source": [
    "fig, ax = plt.subplots(figsize=(6,4))\n",
    "ax.plot(t.optimal_trajectory)\n",
    "ax.tick_params(labelsize=16)\n",
    "ax.set_xlabel('Steps', fontsize=16)\n",
    "ax.set_ylabel('% of lever pulls that are optimal', fontsize=16)\n",
    "plt.show()"
   ]
  },
  {
   "cell_type": "markdown",
   "metadata": {},
   "source": [
    "In the interests of demonstrating how this works, let's plot the agent's knowledge of the distributions as the sampling proceeds, as well as the true distributions. "
   ]
  },
  {
   "cell_type": "code",
   "execution_count": 236,
   "metadata": {},
   "outputs": [
    {
     "data": {
      "image/png": "[encoded data removed]",
      "text/plain": [
       "<Figure size 432x288 with 1 Axes>"
      ]
     },
     "metadata": {
      "needs_background": "light"
     },
     "output_type": "display_data"
    }
   ],
   "source": [
    "fig, ax = plt.subplots(figsize=(6,4))\n",
    "for k in range(0,t.bandit.k):\n",
    "    ax.plot(t.Q_trajectory[k])\n",
    "ax.tick_params(labelsize=16)\n",
    "ax.set_xlabel('Steps', fontsize=16)\n",
    "ax.set_ylabel('Belief about value of theta for each arm', fontsize=16)\n",
    "plt.show()"
   ]
  },
  {
   "cell_type": "code",
   "execution_count": 234,
   "metadata": {},
   "outputs": [],
   "source": [
    "#t.Q_trajectory[0]"
   ]
  },
  {
   "cell_type": "code",
   "execution_count": 238,
   "metadata": {},
   "outputs": [
    {
     "data": {
      "text/plain": [
       "array([0.20075883, 0.9056029 , 0.35306611, 0.1242545 , 0.18934654,\n",
       "       0.09237537, 0.94308772, 0.99837154, 0.60339621, 0.90186004])"
      ]
     },
     "execution_count": 238,
     "metadata": {},
     "output_type": "execute_result"
    }
   ],
   "source": [
    "t.bandit.theta"
   ]
  },
  {
   "cell_type": "code",
   "execution_count": 240,
   "metadata": {},
   "outputs": [
    {
     "data": {
      "text/plain": [
       "[0.25,\n",
       " 0.7857142857142857,\n",
       " 0.3333333333333333,\n",
       " 0.25,\n",
       " 0.6666666666666666,\n",
       " 0.25,\n",
       " 0.9420289855072463,\n",
       " 0.9982076340769817,\n",
       " 0.7272727272727273,\n",
       " 0.9117647058823529]"
      ]
     },
     "execution_count": 240,
     "metadata": {},
     "output_type": "execute_result"
    }
   ],
   "source": [
    "[t.Q_trajectory[p][-1] for p in range(t.bandit.k)]"
   ]
  },
  {
   "cell_type": "code",
   "execution_count": 246,
   "metadata": {},
   "outputs": [],
   "source": [
    "best_estimate_arm = np.amin(t.bandit.theta - [t.Q_trajectory[p][-1] for p in range(t.bandit.k)])"
   ]
  },
  {
   "cell_type": "code",
   "execution_count": 245,
   "metadata": {},
   "outputs": [
    {
     "data": {
      "text/plain": [
       "array([-4.92411693e-02,  1.19888612e-01,  1.97327790e-02, -1.25745503e-01,\n",
       "       -4.77320122e-01, -1.57624631e-01,  1.05873141e-03,  1.63905990e-04,\n",
       "       -1.23876521e-01, -9.90466588e-03])"
      ]
     },
     "execution_count": 245,
     "metadata": {},
     "output_type": "execute_result"
    }
   ],
   "source": [
    "t.bandit.theta - [t.Q_trajectory[p][-1] for p in range(t.bandit.k)]"
   ]
  },
  {
   "cell_type": "markdown",
   "metadata": {},
   "source": [
    "This has achieved what we would expect: the error between our expected value of $\\theta$ and the true value is most reduced for the arm with the highest payout, as this has been the arm that has been sampled the most times (according to the pull record).\n",
    "\n",
    "We should also consider a more general case/other cases for Thompson sampling -- for instance, what happens when we are dealing with non-Bernoulli distributions?"
   ]
  },
  {
   "cell_type": "code",
   "execution_count": null,
   "metadata": {},
   "outputs": [],
   "source": []
  }
 ],
 "metadata": {
  "kernelspec": {
   "display_name": "Python 3",
   "language": "python",
   "name": "python3"
  },
  "language_info": {
   "codemirror_mode": {
    "name": "ipython",
    "version": 3
   },
   "file_extension": ".py",
   "mimetype": "text/x-python",
   "name": "python",
   "nbconvert_exporter": "python",
   "pygments_lexer": "ipython3",
   "version": "3.7.3"
  }
 },
 "nbformat": 4,
 "nbformat_minor": 2
}
